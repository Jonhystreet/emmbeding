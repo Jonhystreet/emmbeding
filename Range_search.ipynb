{
 "cells": [
  {
   "cell_type": "code",
   "execution_count": 4,
   "metadata": {},
   "outputs": [
    {
     "name": "stdout",
     "output_type": "stream",
     "text": [
      "[  0   1   1   2   5   5   6   6   7   7   9  15  15  16  17  17  21  21\n",
      "  21  26  27  30  31  32  33  34  34  34  34  35  37  37  37  38  38  38\n",
      "  38  38  39  40  40  41  54  54  58  60  61  61  61  62  66  67  67  68\n",
      "  68  68  69  71  71  71  71  76  76  76  76  76  80  81  81  81  81  82\n",
      "  83  83  84  84  84  87  87  88  89  90  90  90  91  92  92  99 100 101\n",
      " 101 106 106 106 107 109 109 109 110 110 110 110 110 111 114 116 117 117\n",
      " 117 117 117 117 117 117 120 120 120 120 121 121 122 123 125 125 125 126\n",
      " 126 126 126 126 126 131 133 135 135 135 135 135 135 135 135 135 137 139\n",
      " 141 142 143 143 144 144 144 144 144 153 153 153 155 156 156 157 159 159\n",
      " 160 160 160 166 167 167 168 168 176 176 176 178 180 180 181 181 181 181\n",
      " 181 181 181 182 182 183 184 184 184 185 186 187 187 187 187 191 193 195\n",
      " 195 195 196 197 197 198 198 198 198 198 198 198 198 198 203 203 203 203\n",
      " 203 205 205 207 207 209 210 211 211 212 212 212 212 212 212 212 213 214\n",
      " 214 214 215 215 217 219 219 221 221 222 231 231 232 232 232 233 234 235\n",
      " 236 238 240 241 242 242 243 243 245 245 245 246 247 247 248 248 248 248\n",
      " 248 248 249 251 251 253 253 254 256 257 258 258 258 258 258 258 258 258\n",
      " 261 261 262 263 264 264 267 268 269 269 269 269 272 275 280 280 280 280\n",
      " 281 284 284 290 291 295 296 296 297 297 299 305 309 309 310 310 311 311\n",
      " 311 311 311 311 312 313 313 313 313 314 314 316 318 324 324 324 328 328\n",
      " 331 332 333 333 334 334 334 334 336 336 336 336 336 336 336 337 338 341\n",
      " 341 341 344 348 348 350 350 350 353 357 358 361 362 362 362 362 362 362\n",
      " 362 362 362 362 362 363 363 367 371 371 372 372 372 374 374 374 375 376\n",
      " 377 378 379 382 382 382 382 383 384 385 388 399 399 399 401 403 403 405\n",
      " 405 405 405 406 407 407 408 409 409 414 416 417 418 419 420 421 423 423\n",
      " 429 431 435 435 435 435 435 436 437 438 439 439 439 439 439 440 440 441\n",
      " 442 442 442 442 442 443 443 443 445 445 449 452 453 453 453 456 460 460\n",
      " 460 460 462 462 463 463 463 465 468 468 470 470 470 470 470 472 472 472\n",
      " 473 473 473 474 476 476 477 482 486 486 491 491 491 492 502]\n"
     ]
    }
   ],
   "source": [
    "import faiss\n",
    "import numpy as np\n",
    "# DATOS DE EJEMPLO\n",
    "xb = np.random.rand(200000, 32).astype('float32')\n",
    "xq = np.random.rand(500, 32).astype('float32')\n",
    "\n",
    "# Obtenemos eso en un idex\n",
    "index = faiss.IndexFlatL2(xb.shape[1])\n",
    "index.add(xb)\n",
    "lims, D, I = index.range_search(xq, 1.5)\n",
    "print(lims)\n",
    "def search_from_matrix(xq, xb, thresh):\n",
    "    nq, d = xq.shape\n",
    "    nb, d2 = xb.shape\n",
    "    assert d == d2\n",
    "    res = faiss.RangeSearchResult(nq)\n",
    "    faiss.range_search_L2sqr(\n",
    "        faiss.swig_ptr(xq), \n",
    "        faiss.swig_ptr(xb), \n",
    "        d, nq, nb, \n",
    "        thresh, res)\n",
    "    \n",
    "    # obtenemos punteros y coopeamos\n",
    "    lims = faiss.rev_swig_ptr(res.lims, nq + 1).copy()\n",
    "    nd = int(lims[-1])\n",
    "    D = faiss.rev_swig_ptr(res.distances, nd).copy()\n",
    "    I = faiss.rev_swig_ptr(res.labels, nd).copy()\n",
    "    return lims, D, I\n",
    "\n",
    "# Testeamos\n",
    "lims2, D2, I2 = search_from_matrix(xq, xb, 1.5)\n",
    "\n",
    "# Verificamos la salida\n",
    "assert np.all(lims2 == lims) \n",
    "assert np.all(D == D2)\n",
    "assert np.all(I == I2)"
   ]
  }
 ],
 "metadata": {
  "interpreter": {
   "hash": "7ba1bc94ccd02cfa060379d503179e1702b1042fb88ca4d15c56a82d1111cb83"
  },
  "kernelspec": {
   "display_name": "Python 3.10.2 64-bit",
   "language": "python",
   "name": "python3"
  },
  "language_info": {
   "codemirror_mode": {
    "name": "ipython",
    "version": 3
   },
   "file_extension": ".py",
   "mimetype": "text/x-python",
   "name": "python",
   "nbconvert_exporter": "python",
   "pygments_lexer": "ipython3",
   "version": "3.10.2"
  },
  "orig_nbformat": 4
 },
 "nbformat": 4,
 "nbformat_minor": 2
}

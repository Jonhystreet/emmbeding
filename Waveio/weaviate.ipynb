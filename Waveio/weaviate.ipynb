{
 "cells": [
  {
   "cell_type": "code",
   "execution_count": 15,
   "metadata": {},
   "outputs": [],
   "source": [
    "#%pip install weaviate-client"
   ]
  },
  {
   "cell_type": "code",
   "execution_count": 16,
   "metadata": {},
   "outputs": [],
   "source": [
    "import pandas as pd\n",
    "import weaviate\n"
   ]
  },
  {
   "cell_type": "code",
   "execution_count": 17,
   "metadata": {},
   "outputs": [],
   "source": [
    "info = 'D:\\\\Usuarios\\\\UGACJSS3\\\\Desktop\\\\emmbeding\\\\Muestra200_data.csv'\n",
    "data = pd.read_csv(info, sep=',',encoding='latin-1')"
   ]
  },
  {
   "cell_type": "code",
   "execution_count": 18,
   "metadata": {},
   "outputs": [
    {
     "data": {
      "text/html": [
       "<div>\n",
       "<style scoped>\n",
       "    .dataframe tbody tr th:only-of-type {\n",
       "        vertical-align: middle;\n",
       "    }\n",
       "\n",
       "    .dataframe tbody tr th {\n",
       "        vertical-align: top;\n",
       "    }\n",
       "\n",
       "    .dataframe thead th {\n",
       "        text-align: right;\n",
       "    }\n",
       "</style>\n",
       "<table border=\"1\" class=\"dataframe\">\n",
       "  <thead>\n",
       "    <tr style=\"text-align: right;\">\n",
       "      <th></th>\n",
       "      <th>Id</th>\n",
       "      <th>Informacion</th>\n",
       "      <th>Etiqueta</th>\n",
       "    </tr>\n",
       "  </thead>\n",
       "  <tbody>\n",
       "    <tr>\n",
       "      <th>0</th>\n",
       "      <td>CONFLICTO COMPETENCIAL 14/2022</td>\n",
       "      <td>Solicitante: EL PRIMER TRIBUNAL COLEGIADO EN M...</td>\n",
       "      <td>Solicitante</td>\n",
       "    </tr>\n",
       "    <tr>\n",
       "      <th>1</th>\n",
       "      <td>CONFLICTO COMPETENCIAL 14/2022</td>\n",
       "      <td>PONENTE: MINISTRA YASMÍN ESQUIVEL MOSSA</td>\n",
       "      <td>Ponente</td>\n",
       "    </tr>\n",
       "    <tr>\n",
       "      <th>2</th>\n",
       "      <td>CONFLICTO COMPETENCIAL 14/2022</td>\n",
       "      <td>SECRETARIO: FANUEL MARTÍNEZ LÓPEZ</td>\n",
       "      <td>Secretario</td>\n",
       "    </tr>\n",
       "    <tr>\n",
       "      <th>3</th>\n",
       "      <td>CONFLICTO COMPETENCIAL 13/2022</td>\n",
       "      <td>SUSCITADO ENTRE EL TRIBUNAL COLEGIADO EN MATER...</td>\n",
       "      <td>Solicitante</td>\n",
       "    </tr>\n",
       "    <tr>\n",
       "      <th>4</th>\n",
       "      <td>CONFLICTO COMPETENCIAL 13/2022</td>\n",
       "      <td>PONENTE: MINISTRO JAVIER LAYNEZ POTISEK</td>\n",
       "      <td>Ponente</td>\n",
       "    </tr>\n",
       "    <tr>\n",
       "      <th>...</th>\n",
       "      <td>...</td>\n",
       "      <td>...</td>\n",
       "      <td>...</td>\n",
       "    </tr>\n",
       "    <tr>\n",
       "      <th>632</th>\n",
       "      <td>CONFLICTO COMPETENCIAL 145/2021.</td>\n",
       "      <td>SECRETARIO:SALVADOR OBREGÓN SANDOVAL.</td>\n",
       "      <td>Secretario</td>\n",
       "    </tr>\n",
       "    <tr>\n",
       "      <th>633</th>\n",
       "      <td>RECURSO DE RECLAMACIÓN 106/2021-CA,</td>\n",
       "      <td>DERIVADO DEL RECURSO DE QUEJA 3/2021-CC, DERIV...</td>\n",
       "      <td>Derivacion</td>\n",
       "    </tr>\n",
       "    <tr>\n",
       "      <th>634</th>\n",
       "      <td>RECURSO DE RECLAMACIÓN 106/2021-CA,</td>\n",
       "      <td>RECURRENTE: MUNICIPIO DE OTEAPAN, ESTADO DE VE...</td>\n",
       "      <td>Recurrente</td>\n",
       "    </tr>\n",
       "    <tr>\n",
       "      <th>635</th>\n",
       "      <td>RECURSO DE RECLAMACIÓN 106/2021-CA,</td>\n",
       "      <td>ponente: MINISTRO JORGE MARIO PARDO REBOLLEDO.</td>\n",
       "      <td>Ponente</td>\n",
       "    </tr>\n",
       "    <tr>\n",
       "      <th>636</th>\n",
       "      <td>RECURSO DE RECLAMACIÓN 106/2021-CA,</td>\n",
       "      <td>SECRETARIA: NÍNIVE ILEANA PENAGOS ROBLES.</td>\n",
       "      <td>Secretario</td>\n",
       "    </tr>\n",
       "  </tbody>\n",
       "</table>\n",
       "<p>637 rows × 3 columns</p>\n",
       "</div>"
      ],
      "text/plain": [
       "                                       Id  \\\n",
       "0          CONFLICTO COMPETENCIAL 14/2022   \n",
       "1          CONFLICTO COMPETENCIAL 14/2022   \n",
       "2          CONFLICTO COMPETENCIAL 14/2022   \n",
       "3          CONFLICTO COMPETENCIAL 13/2022   \n",
       "4          CONFLICTO COMPETENCIAL 13/2022   \n",
       "..                                    ...   \n",
       "632      CONFLICTO COMPETENCIAL 145/2021.   \n",
       "633  RECURSO DE RECLAMACIÓN 106/2021-CA,    \n",
       "634  RECURSO DE RECLAMACIÓN 106/2021-CA,    \n",
       "635  RECURSO DE RECLAMACIÓN 106/2021-CA,    \n",
       "636  RECURSO DE RECLAMACIÓN 106/2021-CA,    \n",
       "\n",
       "                                           Informacion     Etiqueta  \n",
       "0    Solicitante: EL PRIMER TRIBUNAL COLEGIADO EN M...  Solicitante  \n",
       "1              PONENTE: MINISTRA YASMÍN ESQUIVEL MOSSA      Ponente  \n",
       "2                    SECRETARIO: FANUEL MARTÍNEZ LÓPEZ   Secretario  \n",
       "3    SUSCITADO ENTRE EL TRIBUNAL COLEGIADO EN MATER...  Solicitante  \n",
       "4              PONENTE: MINISTRO JAVIER LAYNEZ POTISEK      Ponente  \n",
       "..                                                 ...          ...  \n",
       "632              SECRETARIO:SALVADOR OBREGÓN SANDOVAL.   Secretario  \n",
       "633  DERIVADO DEL RECURSO DE QUEJA 3/2021-CC, DERIV...   Derivacion  \n",
       "634  RECURRENTE: MUNICIPIO DE OTEAPAN, ESTADO DE VE...   Recurrente  \n",
       "635     ponente: MINISTRO JORGE MARIO PARDO REBOLLEDO.      Ponente  \n",
       "636          SECRETARIA: NÍNIVE ILEANA PENAGOS ROBLES.   Secretario  \n",
       "\n",
       "[637 rows x 3 columns]"
      ]
     },
     "execution_count": 18,
     "metadata": {},
     "output_type": "execute_result"
    }
   ],
   "source": [
    "data"
   ]
  },
  {
   "cell_type": "code",
   "execution_count": 19,
   "metadata": {},
   "outputs": [
    {
     "data": {
      "text/plain": [
       "{'hostname': 'http://[::]:8080',\n",
       " 'modules': {'text2vec-contextionary': {'version': 'en0.16.0-v1.0.2',\n",
       "   'wordCount': 818072}},\n",
       " 'version': '1.9.0'}"
      ]
     },
     "execution_count": 19,
     "metadata": {},
     "output_type": "execute_result"
    }
   ],
   "source": [
    "import weaviate\n",
    "\n",
    "client = weaviate.Client(\"http://localhost:8080\")\n",
    " \n",
    "\n",
    "#Comprobar la ejecucion del cliente es necesario tener el docker activado\n",
    "client.get_meta()\n",
    "\n"
   ]
  },
  {
   "cell_type": "code",
   "execution_count": 23,
   "metadata": {},
   "outputs": [
    {
     "ename": "SyntaxError",
     "evalue": "expression expected after dictionary key and ':' (3834495729.py, line 6)",
     "output_type": "error",
     "traceback": [
      "\u001b[1;36m  Input \u001b[1;32mIn [23]\u001b[1;36m\u001b[0m\n\u001b[1;33m    \"properties\": [\u001b[0m\n\u001b[1;37m                ^\u001b[0m\n\u001b[1;31mSyntaxError\u001b[0m\u001b[1;31m:\u001b[0m expression expected after dictionary key and ':'\n"
     ]
    }
   ],
   "source": [
    "# Se crea un esquema para poder realizar las consultas\n",
    "schema = {\n",
    "    \"classes\":{\n",
    "        \"class\":\"info\",\n",
    "        \"description\":\"Informacion sohre hechos y sentencias\",\n",
    "        \"properties\": [\n",
    "             {\n",
    "                 \"dataType\": [\n",
    "                     \"string\"\n",
    "                 ]\n",
    "             }\n",
    "        ]\n",
    "    }    \n",
    "}"
   ]
  }
 ],
 "metadata": {
  "interpreter": {
   "hash": "7ba1bc94ccd02cfa060379d503179e1702b1042fb88ca4d15c56a82d1111cb83"
  },
  "kernelspec": {
   "display_name": "Python 3.10.2 64-bit",
   "language": "python",
   "name": "python3"
  },
  "language_info": {
   "codemirror_mode": {
    "name": "ipython",
    "version": 3
   },
   "file_extension": ".py",
   "mimetype": "text/x-python",
   "name": "python",
   "nbconvert_exporter": "python",
   "pygments_lexer": "ipython3",
   "version": "3.10.2"
  },
  "orig_nbformat": 4
 },
 "nbformat": 4,
 "nbformat_minor": 2
}

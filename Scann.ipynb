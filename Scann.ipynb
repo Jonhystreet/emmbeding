{
 "cells": [
  {
   "cell_type": "code",
   "execution_count": null,
   "metadata": {},
   "outputs": [],
   "source": [
    "pip install scann"
   ]
  },
  {
   "cell_type": "code",
   "execution_count": null,
   "metadata": {},
   "outputs": [],
   "source": [
    "import numpy as np\n",
    "import h5py\n",
    "import os\n",
    "import requests\n",
    "import tempfile\n",
    "import time\n",
    "\n",
    "import scann"
   ]
  },
  {
   "cell_type": "code",
   "execution_count": 7,
   "metadata": {},
   "outputs": [
    {
     "ename": "KeyboardInterrupt",
     "evalue": "",
     "output_type": "error",
     "traceback": [
      "\u001b[1;31m---------------------------------------------------------------------------\u001b[0m",
      "\u001b[1;31mKeyboardInterrupt\u001b[0m                         Traceback (most recent call last)",
      "\u001b[1;32mUntitled-1.ipynb Cell 3'\u001b[0m in \u001b[0;36m<cell line: 1>\u001b[1;34m()\u001b[0m\n\u001b[0;32m      <a href='vscode-notebook-cell:Untitled-1.ipynb?jupyter-notebook#ch0000003untitled?line=0'>1</a>\u001b[0m \u001b[39mwith\u001b[39;00m tempfile\u001b[39m.\u001b[39mTemporaryDirectory() \u001b[39mas\u001b[39;00m tmp:\n\u001b[1;32m----> <a href='vscode-notebook-cell:Untitled-1.ipynb?jupyter-notebook#ch0000003untitled?line=1'>2</a>\u001b[0m     response \u001b[39m=\u001b[39m requests\u001b[39m.\u001b[39;49mget(\u001b[39m\"\u001b[39;49m\u001b[39mhttp://ann-benchmarks.com/glove-100-angular.hdf5\u001b[39;49m\u001b[39m\"\u001b[39;49m)\n\u001b[0;32m      <a href='vscode-notebook-cell:Untitled-1.ipynb?jupyter-notebook#ch0000003untitled?line=2'>3</a>\u001b[0m     loc \u001b[39m=\u001b[39m os\u001b[39m.\u001b[39mpath\u001b[39m.\u001b[39mjoin(tmp, \u001b[39m\"\u001b[39m\u001b[39mglove.hdf5\u001b[39m\u001b[39m\"\u001b[39m)\n\u001b[0;32m      <a href='vscode-notebook-cell:Untitled-1.ipynb?jupyter-notebook#ch0000003untitled?line=3'>4</a>\u001b[0m     \u001b[39mwith\u001b[39;00m \u001b[39mopen\u001b[39m(loc, \u001b[39m'\u001b[39m\u001b[39mwb\u001b[39m\u001b[39m'\u001b[39m) \u001b[39mas\u001b[39;00m f:\n",
      "File \u001b[1;32md:\\Usuarios\\UGACJSS3\\AppData\\Local\\Programs\\Python\\Python310\\lib\\site-packages\\requests\\api.py:75\u001b[0m, in \u001b[0;36mget\u001b[1;34m(url, params, **kwargs)\u001b[0m\n\u001b[0;32m     <a href='file:///d%3A/Usuarios/UGACJSS3/AppData/Local/Programs/Python/Python310/lib/site-packages/requests/api.py?line=63'>64</a>\u001b[0m \u001b[39mdef\u001b[39;00m \u001b[39mget\u001b[39m(url, params\u001b[39m=\u001b[39m\u001b[39mNone\u001b[39;00m, \u001b[39m*\u001b[39m\u001b[39m*\u001b[39mkwargs):\n\u001b[0;32m     <a href='file:///d%3A/Usuarios/UGACJSS3/AppData/Local/Programs/Python/Python310/lib/site-packages/requests/api.py?line=64'>65</a>\u001b[0m     \u001b[39mr\u001b[39m\u001b[39m\"\"\"Sends a GET request.\u001b[39;00m\n\u001b[0;32m     <a href='file:///d%3A/Usuarios/UGACJSS3/AppData/Local/Programs/Python/Python310/lib/site-packages/requests/api.py?line=65'>66</a>\u001b[0m \n\u001b[0;32m     <a href='file:///d%3A/Usuarios/UGACJSS3/AppData/Local/Programs/Python/Python310/lib/site-packages/requests/api.py?line=66'>67</a>\u001b[0m \u001b[39m    :param url: URL for the new :class:`Request` object.\u001b[39;00m\n\u001b[1;32m   (...)\u001b[0m\n\u001b[0;32m     <a href='file:///d%3A/Usuarios/UGACJSS3/AppData/Local/Programs/Python/Python310/lib/site-packages/requests/api.py?line=71'>72</a>\u001b[0m \u001b[39m    :rtype: requests.Response\u001b[39;00m\n\u001b[0;32m     <a href='file:///d%3A/Usuarios/UGACJSS3/AppData/Local/Programs/Python/Python310/lib/site-packages/requests/api.py?line=72'>73</a>\u001b[0m \u001b[39m    \"\"\"\u001b[39;00m\n\u001b[1;32m---> <a href='file:///d%3A/Usuarios/UGACJSS3/AppData/Local/Programs/Python/Python310/lib/site-packages/requests/api.py?line=74'>75</a>\u001b[0m     \u001b[39mreturn\u001b[39;00m request(\u001b[39m'\u001b[39m\u001b[39mget\u001b[39m\u001b[39m'\u001b[39m, url, params\u001b[39m=\u001b[39mparams, \u001b[39m*\u001b[39m\u001b[39m*\u001b[39mkwargs)\n",
      "File \u001b[1;32md:\\Usuarios\\UGACJSS3\\AppData\\Local\\Programs\\Python\\Python310\\lib\\site-packages\\requests\\api.py:61\u001b[0m, in \u001b[0;36mrequest\u001b[1;34m(method, url, **kwargs)\u001b[0m\n\u001b[0;32m     <a href='file:///d%3A/Usuarios/UGACJSS3/AppData/Local/Programs/Python/Python310/lib/site-packages/requests/api.py?line=56'>57</a>\u001b[0m \u001b[39m# By using the 'with' statement we are sure the session is closed, thus we\u001b[39;00m\n\u001b[0;32m     <a href='file:///d%3A/Usuarios/UGACJSS3/AppData/Local/Programs/Python/Python310/lib/site-packages/requests/api.py?line=57'>58</a>\u001b[0m \u001b[39m# avoid leaving sockets open which can trigger a ResourceWarning in some\u001b[39;00m\n\u001b[0;32m     <a href='file:///d%3A/Usuarios/UGACJSS3/AppData/Local/Programs/Python/Python310/lib/site-packages/requests/api.py?line=58'>59</a>\u001b[0m \u001b[39m# cases, and look like a memory leak in others.\u001b[39;00m\n\u001b[0;32m     <a href='file:///d%3A/Usuarios/UGACJSS3/AppData/Local/Programs/Python/Python310/lib/site-packages/requests/api.py?line=59'>60</a>\u001b[0m \u001b[39mwith\u001b[39;00m sessions\u001b[39m.\u001b[39mSession() \u001b[39mas\u001b[39;00m session:\n\u001b[1;32m---> <a href='file:///d%3A/Usuarios/UGACJSS3/AppData/Local/Programs/Python/Python310/lib/site-packages/requests/api.py?line=60'>61</a>\u001b[0m     \u001b[39mreturn\u001b[39;00m session\u001b[39m.\u001b[39mrequest(method\u001b[39m=\u001b[39mmethod, url\u001b[39m=\u001b[39murl, \u001b[39m*\u001b[39m\u001b[39m*\u001b[39mkwargs)\n",
      "File \u001b[1;32md:\\Usuarios\\UGACJSS3\\AppData\\Local\\Programs\\Python\\Python310\\lib\\site-packages\\requests\\sessions.py:529\u001b[0m, in \u001b[0;36mSession.request\u001b[1;34m(self, method, url, params, data, headers, cookies, files, auth, timeout, allow_redirects, proxies, hooks, stream, verify, cert, json)\u001b[0m\n\u001b[0;32m    <a href='file:///d%3A/Usuarios/UGACJSS3/AppData/Local/Programs/Python/Python310/lib/site-packages/requests/sessions.py?line=523'>524</a>\u001b[0m send_kwargs \u001b[39m=\u001b[39m {\n\u001b[0;32m    <a href='file:///d%3A/Usuarios/UGACJSS3/AppData/Local/Programs/Python/Python310/lib/site-packages/requests/sessions.py?line=524'>525</a>\u001b[0m     \u001b[39m'\u001b[39m\u001b[39mtimeout\u001b[39m\u001b[39m'\u001b[39m: timeout,\n\u001b[0;32m    <a href='file:///d%3A/Usuarios/UGACJSS3/AppData/Local/Programs/Python/Python310/lib/site-packages/requests/sessions.py?line=525'>526</a>\u001b[0m     \u001b[39m'\u001b[39m\u001b[39mallow_redirects\u001b[39m\u001b[39m'\u001b[39m: allow_redirects,\n\u001b[0;32m    <a href='file:///d%3A/Usuarios/UGACJSS3/AppData/Local/Programs/Python/Python310/lib/site-packages/requests/sessions.py?line=526'>527</a>\u001b[0m }\n\u001b[0;32m    <a href='file:///d%3A/Usuarios/UGACJSS3/AppData/Local/Programs/Python/Python310/lib/site-packages/requests/sessions.py?line=527'>528</a>\u001b[0m send_kwargs\u001b[39m.\u001b[39mupdate(settings)\n\u001b[1;32m--> <a href='file:///d%3A/Usuarios/UGACJSS3/AppData/Local/Programs/Python/Python310/lib/site-packages/requests/sessions.py?line=528'>529</a>\u001b[0m resp \u001b[39m=\u001b[39m \u001b[39mself\u001b[39m\u001b[39m.\u001b[39msend(prep, \u001b[39m*\u001b[39m\u001b[39m*\u001b[39msend_kwargs)\n\u001b[0;32m    <a href='file:///d%3A/Usuarios/UGACJSS3/AppData/Local/Programs/Python/Python310/lib/site-packages/requests/sessions.py?line=530'>531</a>\u001b[0m \u001b[39mreturn\u001b[39;00m resp\n",
      "File \u001b[1;32md:\\Usuarios\\UGACJSS3\\AppData\\Local\\Programs\\Python\\Python310\\lib\\site-packages\\requests\\sessions.py:687\u001b[0m, in \u001b[0;36mSession.send\u001b[1;34m(self, request, **kwargs)\u001b[0m\n\u001b[0;32m    <a href='file:///d%3A/Usuarios/UGACJSS3/AppData/Local/Programs/Python/Python310/lib/site-packages/requests/sessions.py?line=683'>684</a>\u001b[0m         \u001b[39mpass\u001b[39;00m\n\u001b[0;32m    <a href='file:///d%3A/Usuarios/UGACJSS3/AppData/Local/Programs/Python/Python310/lib/site-packages/requests/sessions.py?line=685'>686</a>\u001b[0m \u001b[39mif\u001b[39;00m \u001b[39mnot\u001b[39;00m stream:\n\u001b[1;32m--> <a href='file:///d%3A/Usuarios/UGACJSS3/AppData/Local/Programs/Python/Python310/lib/site-packages/requests/sessions.py?line=686'>687</a>\u001b[0m     r\u001b[39m.\u001b[39;49mcontent\n\u001b[0;32m    <a href='file:///d%3A/Usuarios/UGACJSS3/AppData/Local/Programs/Python/Python310/lib/site-packages/requests/sessions.py?line=688'>689</a>\u001b[0m \u001b[39mreturn\u001b[39;00m r\n",
      "File \u001b[1;32md:\\Usuarios\\UGACJSS3\\AppData\\Local\\Programs\\Python\\Python310\\lib\\site-packages\\requests\\models.py:838\u001b[0m, in \u001b[0;36mResponse.content\u001b[1;34m(self)\u001b[0m\n\u001b[0;32m    <a href='file:///d%3A/Usuarios/UGACJSS3/AppData/Local/Programs/Python/Python310/lib/site-packages/requests/models.py?line=835'>836</a>\u001b[0m         \u001b[39mself\u001b[39m\u001b[39m.\u001b[39m_content \u001b[39m=\u001b[39m \u001b[39mNone\u001b[39;00m\n\u001b[0;32m    <a href='file:///d%3A/Usuarios/UGACJSS3/AppData/Local/Programs/Python/Python310/lib/site-packages/requests/models.py?line=836'>837</a>\u001b[0m     \u001b[39melse\u001b[39;00m:\n\u001b[1;32m--> <a href='file:///d%3A/Usuarios/UGACJSS3/AppData/Local/Programs/Python/Python310/lib/site-packages/requests/models.py?line=837'>838</a>\u001b[0m         \u001b[39mself\u001b[39m\u001b[39m.\u001b[39m_content \u001b[39m=\u001b[39m \u001b[39mb\u001b[39;49m\u001b[39m'\u001b[39;49m\u001b[39m'\u001b[39;49m\u001b[39m.\u001b[39;49mjoin(\u001b[39mself\u001b[39;49m\u001b[39m.\u001b[39;49miter_content(CONTENT_CHUNK_SIZE)) \u001b[39mor\u001b[39;00m \u001b[39mb\u001b[39m\u001b[39m'\u001b[39m\u001b[39m'\u001b[39m\n\u001b[0;32m    <a href='file:///d%3A/Usuarios/UGACJSS3/AppData/Local/Programs/Python/Python310/lib/site-packages/requests/models.py?line=839'>840</a>\u001b[0m \u001b[39mself\u001b[39m\u001b[39m.\u001b[39m_content_consumed \u001b[39m=\u001b[39m \u001b[39mTrue\u001b[39;00m\n\u001b[0;32m    <a href='file:///d%3A/Usuarios/UGACJSS3/AppData/Local/Programs/Python/Python310/lib/site-packages/requests/models.py?line=840'>841</a>\u001b[0m \u001b[39m# don't need to release the connection; that's been handled by urllib3\u001b[39;00m\n\u001b[0;32m    <a href='file:///d%3A/Usuarios/UGACJSS3/AppData/Local/Programs/Python/Python310/lib/site-packages/requests/models.py?line=841'>842</a>\u001b[0m \u001b[39m# since we exhausted the data.\u001b[39;00m\n",
      "File \u001b[1;32md:\\Usuarios\\UGACJSS3\\AppData\\Local\\Programs\\Python\\Python310\\lib\\site-packages\\requests\\models.py:760\u001b[0m, in \u001b[0;36mResponse.iter_content.<locals>.generate\u001b[1;34m()\u001b[0m\n\u001b[0;32m    <a href='file:///d%3A/Usuarios/UGACJSS3/AppData/Local/Programs/Python/Python310/lib/site-packages/requests/models.py?line=757'>758</a>\u001b[0m \u001b[39mif\u001b[39;00m \u001b[39mhasattr\u001b[39m(\u001b[39mself\u001b[39m\u001b[39m.\u001b[39mraw, \u001b[39m'\u001b[39m\u001b[39mstream\u001b[39m\u001b[39m'\u001b[39m):\n\u001b[0;32m    <a href='file:///d%3A/Usuarios/UGACJSS3/AppData/Local/Programs/Python/Python310/lib/site-packages/requests/models.py?line=758'>759</a>\u001b[0m     \u001b[39mtry\u001b[39;00m:\n\u001b[1;32m--> <a href='file:///d%3A/Usuarios/UGACJSS3/AppData/Local/Programs/Python/Python310/lib/site-packages/requests/models.py?line=759'>760</a>\u001b[0m         \u001b[39mfor\u001b[39;00m chunk \u001b[39min\u001b[39;00m \u001b[39mself\u001b[39m\u001b[39m.\u001b[39mraw\u001b[39m.\u001b[39mstream(chunk_size, decode_content\u001b[39m=\u001b[39m\u001b[39mTrue\u001b[39;00m):\n\u001b[0;32m    <a href='file:///d%3A/Usuarios/UGACJSS3/AppData/Local/Programs/Python/Python310/lib/site-packages/requests/models.py?line=760'>761</a>\u001b[0m             \u001b[39myield\u001b[39;00m chunk\n\u001b[0;32m    <a href='file:///d%3A/Usuarios/UGACJSS3/AppData/Local/Programs/Python/Python310/lib/site-packages/requests/models.py?line=761'>762</a>\u001b[0m     \u001b[39mexcept\u001b[39;00m ProtocolError \u001b[39mas\u001b[39;00m e:\n",
      "File \u001b[1;32md:\\Usuarios\\UGACJSS3\\AppData\\Local\\Programs\\Python\\Python310\\lib\\site-packages\\urllib3\\response.py:576\u001b[0m, in \u001b[0;36mHTTPResponse.stream\u001b[1;34m(self, amt, decode_content)\u001b[0m\n\u001b[0;32m    <a href='file:///d%3A/Usuarios/UGACJSS3/AppData/Local/Programs/Python/Python310/lib/site-packages/urllib3/response.py?line=573'>574</a>\u001b[0m \u001b[39melse\u001b[39;00m:\n\u001b[0;32m    <a href='file:///d%3A/Usuarios/UGACJSS3/AppData/Local/Programs/Python/Python310/lib/site-packages/urllib3/response.py?line=574'>575</a>\u001b[0m     \u001b[39mwhile\u001b[39;00m \u001b[39mnot\u001b[39;00m is_fp_closed(\u001b[39mself\u001b[39m\u001b[39m.\u001b[39m_fp):\n\u001b[1;32m--> <a href='file:///d%3A/Usuarios/UGACJSS3/AppData/Local/Programs/Python/Python310/lib/site-packages/urllib3/response.py?line=575'>576</a>\u001b[0m         data \u001b[39m=\u001b[39m \u001b[39mself\u001b[39;49m\u001b[39m.\u001b[39;49mread(amt\u001b[39m=\u001b[39;49mamt, decode_content\u001b[39m=\u001b[39;49mdecode_content)\n\u001b[0;32m    <a href='file:///d%3A/Usuarios/UGACJSS3/AppData/Local/Programs/Python/Python310/lib/site-packages/urllib3/response.py?line=577'>578</a>\u001b[0m         \u001b[39mif\u001b[39;00m data:\n\u001b[0;32m    <a href='file:///d%3A/Usuarios/UGACJSS3/AppData/Local/Programs/Python/Python310/lib/site-packages/urllib3/response.py?line=578'>579</a>\u001b[0m             \u001b[39myield\u001b[39;00m data\n",
      "File \u001b[1;32md:\\Usuarios\\UGACJSS3\\AppData\\Local\\Programs\\Python\\Python310\\lib\\site-packages\\urllib3\\response.py:519\u001b[0m, in \u001b[0;36mHTTPResponse.read\u001b[1;34m(self, amt, decode_content, cache_content)\u001b[0m\n\u001b[0;32m    <a href='file:///d%3A/Usuarios/UGACJSS3/AppData/Local/Programs/Python/Python310/lib/site-packages/urllib3/response.py?line=516'>517</a>\u001b[0m \u001b[39melse\u001b[39;00m:\n\u001b[0;32m    <a href='file:///d%3A/Usuarios/UGACJSS3/AppData/Local/Programs/Python/Python310/lib/site-packages/urllib3/response.py?line=517'>518</a>\u001b[0m     cache_content \u001b[39m=\u001b[39m \u001b[39mFalse\u001b[39;00m\n\u001b[1;32m--> <a href='file:///d%3A/Usuarios/UGACJSS3/AppData/Local/Programs/Python/Python310/lib/site-packages/urllib3/response.py?line=518'>519</a>\u001b[0m     data \u001b[39m=\u001b[39m \u001b[39mself\u001b[39;49m\u001b[39m.\u001b[39;49m_fp\u001b[39m.\u001b[39;49mread(amt) \u001b[39mif\u001b[39;00m \u001b[39mnot\u001b[39;00m fp_closed \u001b[39melse\u001b[39;00m \u001b[39mb\u001b[39m\u001b[39m\"\u001b[39m\u001b[39m\"\u001b[39m\n\u001b[0;32m    <a href='file:///d%3A/Usuarios/UGACJSS3/AppData/Local/Programs/Python/Python310/lib/site-packages/urllib3/response.py?line=519'>520</a>\u001b[0m     \u001b[39mif\u001b[39;00m (\n\u001b[0;32m    <a href='file:///d%3A/Usuarios/UGACJSS3/AppData/Local/Programs/Python/Python310/lib/site-packages/urllib3/response.py?line=520'>521</a>\u001b[0m         amt \u001b[39m!=\u001b[39m \u001b[39m0\u001b[39m \u001b[39mand\u001b[39;00m \u001b[39mnot\u001b[39;00m data\n\u001b[0;32m    <a href='file:///d%3A/Usuarios/UGACJSS3/AppData/Local/Programs/Python/Python310/lib/site-packages/urllib3/response.py?line=521'>522</a>\u001b[0m     ):  \u001b[39m# Platform-specific: Buggy versions of Python.\u001b[39;00m\n\u001b[1;32m   (...)\u001b[0m\n\u001b[0;32m    <a href='file:///d%3A/Usuarios/UGACJSS3/AppData/Local/Programs/Python/Python310/lib/site-packages/urllib3/response.py?line=527'>528</a>\u001b[0m         \u001b[39m# not properly close the connection in all cases. There is\u001b[39;00m\n\u001b[0;32m    <a href='file:///d%3A/Usuarios/UGACJSS3/AppData/Local/Programs/Python/Python310/lib/site-packages/urllib3/response.py?line=528'>529</a>\u001b[0m         \u001b[39m# no harm in redundantly calling close.\u001b[39;00m\n\u001b[0;32m    <a href='file:///d%3A/Usuarios/UGACJSS3/AppData/Local/Programs/Python/Python310/lib/site-packages/urllib3/response.py?line=529'>530</a>\u001b[0m         \u001b[39mself\u001b[39m\u001b[39m.\u001b[39m_fp\u001b[39m.\u001b[39mclose()\n",
      "File \u001b[1;32md:\\Usuarios\\UGACJSS3\\AppData\\Local\\Programs\\Python\\Python310\\lib\\http\\client.py:465\u001b[0m, in \u001b[0;36mHTTPResponse.read\u001b[1;34m(self, amt)\u001b[0m\n\u001b[0;32m    <a href='file:///d%3A/Usuarios/UGACJSS3/AppData/Local/Programs/Python/Python310/lib/http/client.py?line=461'>462</a>\u001b[0m \u001b[39mif\u001b[39;00m \u001b[39mself\u001b[39m\u001b[39m.\u001b[39mlength \u001b[39mis\u001b[39;00m \u001b[39mnot\u001b[39;00m \u001b[39mNone\u001b[39;00m \u001b[39mand\u001b[39;00m amt \u001b[39m>\u001b[39m \u001b[39mself\u001b[39m\u001b[39m.\u001b[39mlength:\n\u001b[0;32m    <a href='file:///d%3A/Usuarios/UGACJSS3/AppData/Local/Programs/Python/Python310/lib/http/client.py?line=462'>463</a>\u001b[0m     \u001b[39m# clip the read to the \"end of response\"\u001b[39;00m\n\u001b[0;32m    <a href='file:///d%3A/Usuarios/UGACJSS3/AppData/Local/Programs/Python/Python310/lib/http/client.py?line=463'>464</a>\u001b[0m     amt \u001b[39m=\u001b[39m \u001b[39mself\u001b[39m\u001b[39m.\u001b[39mlength\n\u001b[1;32m--> <a href='file:///d%3A/Usuarios/UGACJSS3/AppData/Local/Programs/Python/Python310/lib/http/client.py?line=464'>465</a>\u001b[0m s \u001b[39m=\u001b[39m \u001b[39mself\u001b[39;49m\u001b[39m.\u001b[39;49mfp\u001b[39m.\u001b[39;49mread(amt)\n\u001b[0;32m    <a href='file:///d%3A/Usuarios/UGACJSS3/AppData/Local/Programs/Python/Python310/lib/http/client.py?line=465'>466</a>\u001b[0m \u001b[39mif\u001b[39;00m \u001b[39mnot\u001b[39;00m s \u001b[39mand\u001b[39;00m amt:\n\u001b[0;32m    <a href='file:///d%3A/Usuarios/UGACJSS3/AppData/Local/Programs/Python/Python310/lib/http/client.py?line=466'>467</a>\u001b[0m     \u001b[39m# Ideally, we would raise IncompleteRead if the content-length\u001b[39;00m\n\u001b[0;32m    <a href='file:///d%3A/Usuarios/UGACJSS3/AppData/Local/Programs/Python/Python310/lib/http/client.py?line=467'>468</a>\u001b[0m     \u001b[39m# wasn't satisfied, but it might break compatibility.\u001b[39;00m\n\u001b[0;32m    <a href='file:///d%3A/Usuarios/UGACJSS3/AppData/Local/Programs/Python/Python310/lib/http/client.py?line=468'>469</a>\u001b[0m     \u001b[39mself\u001b[39m\u001b[39m.\u001b[39m_close_conn()\n",
      "File \u001b[1;32md:\\Usuarios\\UGACJSS3\\AppData\\Local\\Programs\\Python\\Python310\\lib\\socket.py:705\u001b[0m, in \u001b[0;36mSocketIO.readinto\u001b[1;34m(self, b)\u001b[0m\n\u001b[0;32m    <a href='file:///d%3A/Usuarios/UGACJSS3/AppData/Local/Programs/Python/Python310/lib/socket.py?line=702'>703</a>\u001b[0m \u001b[39mwhile\u001b[39;00m \u001b[39mTrue\u001b[39;00m:\n\u001b[0;32m    <a href='file:///d%3A/Usuarios/UGACJSS3/AppData/Local/Programs/Python/Python310/lib/socket.py?line=703'>704</a>\u001b[0m     \u001b[39mtry\u001b[39;00m:\n\u001b[1;32m--> <a href='file:///d%3A/Usuarios/UGACJSS3/AppData/Local/Programs/Python/Python310/lib/socket.py?line=704'>705</a>\u001b[0m         \u001b[39mreturn\u001b[39;00m \u001b[39mself\u001b[39;49m\u001b[39m.\u001b[39;49m_sock\u001b[39m.\u001b[39;49mrecv_into(b)\n\u001b[0;32m    <a href='file:///d%3A/Usuarios/UGACJSS3/AppData/Local/Programs/Python/Python310/lib/socket.py?line=705'>706</a>\u001b[0m     \u001b[39mexcept\u001b[39;00m timeout:\n\u001b[0;32m    <a href='file:///d%3A/Usuarios/UGACJSS3/AppData/Local/Programs/Python/Python310/lib/socket.py?line=706'>707</a>\u001b[0m         \u001b[39mself\u001b[39m\u001b[39m.\u001b[39m_timeout_occurred \u001b[39m=\u001b[39m \u001b[39mTrue\u001b[39;00m\n",
      "\u001b[1;31mKeyboardInterrupt\u001b[0m: "
     ]
    }
   ],
   "source": [
    "with tempfile.TemporaryDirectory() as tmp:\n",
    "    response = requests.get(\"http://ann-benchmarks.com/glove-100-angular.hdf5\")\n",
    "    loc = os.path.join(tmp, \"glove.hdf5\")\n",
    "    with open(loc, 'wb') as f:\n",
    "        f.write(response.content)\n",
    "    \n",
    "    glove_h5py = h5py.File(loc, \"r\")"
   ]
  },
  {
   "cell_type": "code",
   "execution_count": null,
   "metadata": {},
   "outputs": [],
   "source": [
    "list(glove_h5py.keys())"
   ]
  },
  {
   "cell_type": "code",
   "execution_count": null,
   "metadata": {},
   "outputs": [],
   "source": [
    "dataset = glove_h5py['train']\n",
    "queries = glove_h5py['test']\n",
    "print(dataset.shape)\n",
    "print(queries.shape)"
   ]
  }
 ],
 "metadata": {
  "interpreter": {
   "hash": "7ba1bc94ccd02cfa060379d503179e1702b1042fb88ca4d15c56a82d1111cb83"
  },
  "kernelspec": {
   "display_name": "Python 3.10.2 64-bit",
   "language": "python",
   "name": "python3"
  },
  "language_info": {
   "codemirror_mode": {
    "name": "ipython",
    "version": 3
   },
   "file_extension": ".py",
   "mimetype": "text/x-python",
   "name": "python",
   "nbconvert_exporter": "python",
   "pygments_lexer": "ipython3",
   "version": "3.10.2"
  },
  "orig_nbformat": 4
 },
 "nbformat": 4,
 "nbformat_minor": 2
}
